{
 "cells": [
  {
   "cell_type": "markdown",
   "metadata": {},
   "source": [
    "# Leitura e Escrita em Arquivos"
   ]
  },
  {
   "cell_type": "markdown",
   "metadata": {},
   "source": [
    "No Python, se quisermos abrir um arquivo de texto puro para leitura, temos várias construções possíveis. Porém, a mais utilizada e que é, em geral, mais simples, é a seguinte:"
   ]
  },
  {
   "cell_type": "code",
   "execution_count": 3,
   "metadata": {
    "collapsed": false
   },
   "outputs": [
    {
     "name": "stdout",
     "output_type": "stream",
     "text": [
      "131\n"
     ]
    }
   ],
   "source": [
    "import os\n",
    "diretorio = os.path.join(os.getcwd(), \"..\",\"exemplo_2\")\n",
    "with open(os.path.join(diretorio,\"file1.txt\"), \"r\") as arquivo:\n",
    "    numlinhas = 0\n",
    "    for line in arquivo:\n",
    "        numlinhas += 1\n",
    "print(numlinhas)"
   ]
  },
  {
   "cell_type": "markdown",
   "metadata": {},
   "source": [
    "### Exemplo\n",
    "\n",
    "Tentar encontrar uma string específica dentro deste arquivo."
   ]
  },
  {
   "cell_type": "code",
   "execution_count": 4,
   "metadata": {
    "collapsed": false
   },
   "outputs": [
    {
     "name": "stdout",
     "output_type": "stream",
     "text": [
      "7aDitX3gQM8O/AE00tZh7C9+N8j/CKq7esoFsOMQN9SUvx+PxL87HbeF2xhqkrnabiQABT2r9fR8\n",
      "\n",
      "8VX7W4frZnvsoZ/mdXX8XoBFUCxtmkVyJgxbHt9mAk/hcjwkXgRR/K7UB5E1VVgXwGQUGQ2SrsX/\n",
      "\n",
      "ftjFDMvSIHpQNj5LtO38WZ6pt3Z7rNOJ+CH+Xn7sEl+sd3soRIRbIuZ+KLfOjVSd49K4JRX9aA+k\n",
      "\n"
     ]
    }
   ],
   "source": [
    "string = \"so\"\n",
    "with open(os.path.join(diretorio,\"file1.txt\"),\"r\") as arquivo:\n",
    "    for line in arquivo:\n",
    "        if string in line:\n",
    "            print(line)\n"
   ]
  },
  {
   "cell_type": "markdown",
   "metadata": {},
   "source": [
    "Para alguns casos específicos, pode ser interessante carregar um arquivo completo na memória. Para isso, usamos"
   ]
  },
  {
   "cell_type": "code",
   "execution_count": 5,
   "metadata": {
    "collapsed": false
   },
   "outputs": [
    {
     "name": "stdout",
     "output_type": "stream",
     "text": [
      "dom set 11 18:10:54 BRT 2016 \n",
      "LaDo9ltXdFz7dQBvg52Kqy2jTybecYal2hg3+RdUEzq67KWnaU59RGrRfndSOSq7YMbjQd3tgUVp\n",
      "sAeUFfN0Peu3goZbdV5ycNsv2zNpfAT0i8RSiDd/IMSGuvhTdLzkij1JCDDufn+qiUikZTXkOz8s\n",
      "rb6bysNf65RZEVfAEWXqiwbziSri3cTu6k62IhXRdiglX2KmFQeckYjfiHZztm6ijO2kgsytdWuY\n",
      "xI/g5W/DOh0AujX453TU4KFw5wjxj0EoAlM8FGMbzU1JUxONuUZd1b1wbEaQlEN69m9GV7qLTiRR\n",
      "4f0J/xobEQip7QsavNDjAuVhDZNpWpE4HFJu93W6FzQrp/274RgUghF5fmKW7APvG23+AaeN21To\n",
      "7aDitX3gQM8O/AE00tZh7C9+N8j/CKq7esoFsOMQN9SUvx+PxL87HbeF2xhqkrnabiQABT2r9fR8\n",
      "TW0EbnM6iZTnLsG6X0fF4/Zk3dRa9cw/fhXCvWbskamgSj4jAw5gGYLFk+5ZJsSr1ElTTU74vqef\n",
      "tThh4LLCTGQXFSdDNpqwaUuJY0/BAYk7Zlo04f4CImeO8FOmRE9EVEVJ4hvxuWMVXrdQYXC2LDat\n",
      "19dLLghqwJFBckWBY9rueUIhrylvbCms6IHcWVXIjkzTIJnKimmp0G+w1NW3gXVMZMR2J9Qr3oKG\n",
      "o6cP4e8YgqMqCbL3PlA2hpgyE3BixC0cIOd7yL4dbPKibg2LwEPSJDMtsrHKfG5OrAY5ZuAg67ou\n",
      "iy1yS5SQ4vYhmi6iKjsyMqCqlVYiA40DsySCWKNRHU2BEwN64yrFTbBeBA1a09rdqKATZFXkLCnA\n",
      "30YtUf6GZtua13EYWDn0/nDuZyIwZYYlWsiHbX5TK5in7NmXC12ls4F52c3PkmTHsgfs2aQdEene\n",
      "QZECPc+7t7HtYCk/qyGd8PbYmIZ7Sdqvrcnu+A7wbjxFW9bxZ7TKI2nZLkeuQgC2rEs8ZSVv1GeL\n",
      "xJWzt1nQtuo9MUgqPz0Ti0DR42KtojLMfMIKz9bswZwkPyf+vvbNZ6Fv/eWz+GsYQcg5PV1Y3Kmp\n",
      "8OzIVtT8z1Dy3osb9OUTApUruU++hBIor7yVbLHIlB/Jwhe9duLvTeKyGSFwMdBLQEpl7SWgQzcf\n",
      "gWaEQDuKFwfdsfZVei8H/et86m5RTYa/8gzW04KZqrhX3mYbYNMSlorHMNzL7JGahi+5hihEE0fX\n",
      "iYI2Dwu/0ZhcTI0NZdhWgxd/HZ9767hAHJTC/dkv8CKLRY7/DNVRNji0YCIG0Mj21f7ctYL6Zdme\n",
      "yaJCcwdBONqkk9QVhAI5IS0ArnhEyx11DaaFjS1N43YwEnNY+gpvFmimFSVY42GNbooeq+RX8Y6P\n",
      "BRTJ8YzW21gGS8dbbDtATgoo5rp+McRDQOiRWG1yRpvWREOous0u5hX8L52xyNx8UHvq+6HowNVb\n",
      "qTlEhURrLYfzrk30jhiR/BALiE0VZKwkDOAow3RXQ6iKZZUFWHRcCTWS/E+FENmxKVEqFnW+HyzB\n",
      "16xdbqcSgcjE6yvI2pfFGwxW2rZI4Z6zCr2qOk61tkOd27MxKylT5JsOna7g+X2gxQW7WB52v9l6\n",
      "Hee+XHz0uPClomfdpH7vdIevMPgnra9qowcno5OwHD8TBh/DHf0R9pIFwQBOxYOeMrPNQ+S2bPLc\n",
      "8VX7W4frZnvsoZ/mdXX8XoBFUCxtmkVyJgxbHt9mAk/hcjwkXgRR/K7UB5E1VVgXwGQUGQ2SrsX/\n",
      "FzAX5N2LO/V5F/8nzp3wq5wbEEzaBppTWKbruP/J9HkX7+6ee54QrtTKdvYgNOjo2k13jMAKu7XN\n",
      "uxnZz/a4oaKhtcrtLdESS/i4PuFxdy/WegCcd8v0Qza2FWrVUQq6kDHNsfu1T5p/mKNBv9FcNWPE\n",
      "PuuConL7KR8e1rzDR+uoOJPtqN52qw/C1exMUqOEKYxtCHWUkmiLj/NrMk+DJOlhKbRbHEoUAEIA\n",
      "3lo1CUtC7hQeaeKDnF4EK/vh3raEYugfRQM+a6jBlZzq7Mc8K4NvgAjsSxvz2r6Jif2iBPINMcSc\n",
      "UdhzpRS/SHwqBsGmwirPaLBa3m5lVne0ED0HNc4EeULPkZ468mjKl2BFlSbVdin6dc+zac73hOWW\n",
      "vP6ZBNZTZCph90PLOBVJviAIBRR8OUBvXapeFStDl5jTUX5BiLT1bFBxxUMky9JXXF+bmpkuW5qI\n",
      "Y3cN7G/f6CVZsu/M3PAQ8hNVIWexxlY9Y+qvQ4K2YWojD7Xq++Tphp9mZx1PcCQa/XJFAiQ9FRqx\n",
      "L6o/fVMCHOu0L3ptqGP+KLXKYr40tXb5A2vog7JShaxON9IqY85O7w0k2xZ0xAyxy4bpOVp5T8TH\n",
      "2igwoP9xyqgnwfwhuOiakt9kXFr/hmo5GDTvam/jNvIfkzM1GiwpWwhWuZt3SRo8qgNud4NKUmLh\n",
      "v1JIRGEL7Pvpd5BQVoNsC/MOygSL5fzsFM2bobIGC4+YjJPn5eUQwxRRRCVdwiITVhZY2far4mLS\n",
      "HADcDAZXG+bs0BmIdudID+SOMrHc8jao6z5i0CDBT+p9C3lVbGZKTkVyNtI3RQ/u2KkBi5NVS07N\n",
      "C+6SyhOJO3Kx9sAjJr9s16L2T8WMmT+/clnx+/RF9c2zxlZID6U93Ix239FAJ25EgAA5WIdzvdBd\n",
      "EwGOkZKSfu1xEhXYNYGySg3AW33bj00AURuzwC/HKssnKrCbodxyv64HNXHXP5z1/21RAwcuWrf7\n",
      "onaNOO4UUrZ375BEhXh6yA5PhMrZPeVzcmfkI7l8hWZ1jHonUK6pqz40ewCXNkv6e59kooZlZGH9\n",
      "Fx8nZPsHwXsT8+4lA0j4mYvBVtd/KnimWaUr2WzbYephmB08WtJ3pGc6AaKgn5WUSuB9F9hKtibT\n",
      "6Xhspz5Xl5eCk05/CJ2pabxRj5IEw8kpRJM8NEdtikVyVa4voYBvddnRWWMoOMkPhpQ968787QfT\n",
      "Mm3SaQbQWOcQF2Al5ZgXhaWbnDENRi+jic97mVASEmOinMTtBhxURybQbZPokX01atwlrqnahNJc\n",
      "+WLlBIwcgoww2BhtEXN1NKf7u8pV47dhklRXLZpS2n4FVGX+Z8EnvmsMGJnAydJTP7+QKVx0+Eam\n",
      "cCY4FYXvNXfImSxvw3PmAnRRTawUyzqXWbk0NnYYHqOwdhDS9ViPZLFGJ7pU8KkoYoBtJBJ/+OW1\n",
      "wkRyEuV4ZvCAmXe/ucx9EsHlro3izBGW+N8uswiP55mdud6yQ1orVlWfQIT6ClQeZwe3eXlQW7d3\n",
      "ReZOacoEWP9vGHO76XS+Ta8MXTv4gKNPk2MiDRCKfVdtxUhDFmlywgk2aPbnjVnDTWdH2DgoSD9o\n",
      "ZsQ4JHliTQJ+4LbUZBnTZtFd2yCZTZU/v/yYXecqC/IPDFzmgJ26LYEpETwZxCMK6WKzMYpk5VBV\n",
      "6eTPatTjzjlSOScUSfdBRRxZBB3q7i4LDXFacIv6PRCrlxfIctNrCRW0UTqXK46s1VjfFwaMbjN9\n",
      "XfwsRU33gl03XBGWo/8Gfqlnr8JXGPEPwz7ZshM1kC6r5V4nkE0NnIpZcABuGCOJLGxl8vV6GqJj\n",
      "xYhqjfMnW0rCyg1r+o97+fTzrvNXnNrmEhtXsGiEmix0pg4AYxn9wBRIjViWsCvp/pYHzagnWlDt\n",
      "ngm/Mkd+MKhLvK65+A6sS74jIYhBmC5I10wg5KuRqxKZGafl2ipDANmxxA61HKRypd398z0IPM4r\n",
      "qAml8v3LcLjK5YycO/PLLhsxFcbe8U/ULDVOwd05YXvMoqraV4mW2czx3psVtGSG2iv0LMuSM3MO\n",
      "mCJbQuvM/qJngumGYY93xalSkZsBSfORGteoHlJ7WyevdjimfrgB7+wnZ3sI9nr0FlwQBr2Oj0wM\n",
      "LwwMtDdLIDotMSxoFuqOwWfCdzJAzm/25v/LeaAvnagWeCfTkLxcksrBuzmYT3+b3fGLkpGGOpg9\n",
      "/xlug3S7rHK2dziJjRHXkKxIuxFYOYhiugyk6nF+BZsbxangOsUsACuQ/kdBWM7UDBSA1lrOl3a2\n",
      "ZAZ1EAmpGMQkv/4xaztvZjDMaKNUuByIFb7KvpIuzjVQ2Q0VhF2YJeJw8XSHrUqGgwBRDDb9bq2y\n",
      "1BkzEZBsauW4ypMNLfDL8HjUh8wZ7K8lZycCxO8wOZAVxlmmK4hi+YfVmxOYvEWWp8Ko4l1W8dtE\n",
      "G+MaKbqA2Jwfs/TI0ThmFoUPZIvq/yOrob2bAs2hJfqxlGJKAnyErdYxqQ+q8tVrjHi6BCvnY+Kf\n",
      "KMPqIHFAIwsknsFUoLBbHMp/NawDx/2j4ql5lqJNWn9Ddvf58y9VCiiOLeUl7FW6F57KUlCP43VN\n",
      "ICx4sped/0bmXxDBYYYW5MlFH6EvkMNfjts7SxIS1YUk/qlOZeEuQG9zSr2g2vvMVcv1zv3vB59A\n",
      "VJGN7y2poVbB9zCuVR8A+xQi/GK3YDVEUrNj7kE8xD8gIehcWKXqRXwrvzSJ9l27XzvTZpmnICpv\n",
      "2AUEF0eNThbK9JSHgIqzyehIgJBL/28DvjTJjO53IRt5yCDhRAwNvRphJRULKZkwpy9gNN5KoVlH\n",
      "vfZsz3/OcncWmoSAJif4sskULhA+Z2JVVd6PdGNXBZpqIIgwFnOeYNSxeo4Y9pTbf2DDkAUp2u6D\n",
      "riTC79dhJP3NN+zc7Cqyfi5SREDFJjyh8P83L9awxmwJFqR5YiEt4FiXpbsADa8tPibDrUphmGW4\n",
      "Yueg60sDHM9mVKl2R7yMTgVqKx+oJ/X2iFWtSuvXLs3zGpljO0U9ZnGaDXNTev8To9fi0hdZWHZS\n",
      "rtcfkYMEtxY3DcCfguB4VJ1lntMME1gIOeae9idJdfXoQ4ifhJUHnOnTMtnldpSoZKCc7gqmW38L\n",
      "U94kM/R348iojSjtkMFWvR2kkbJIR7eVWDdrh/B+o6OpyN9XWJgfP21e45aCO9OHoe4ECh2rxQda\n",
      "41Fb4jbf748XtUIv8GPUGpyDD7xyQGlfq1kzxpP0BuaHxQ+cihDjTFnuNw2wr1YHhkVSfT5bUpqS\n",
      "eZwj52J/hT4FYX13q3TRXnMX4i4k4CAhnfEuwvdHvcXhLJZ6XF4ZN68sblLY+B1cBSfT7f0BEGi0\n",
      "uKc6HNbqCH9GSkoSxOjrN3vghqBT1VrtO4i1x/bJ6y3RcKYqlPoPQA6w3Ja6LA+I4RImeu6FAQXM\n",
      "17yVtfpHUlwFQ1oMKOzf9DtBJJRtMd/zKCF/YX6AbxfMz/chyqt1xPIkMPgi7KAt6oYP58k7pkU3\n",
      "Oyeu3t73A04JdrpkdYbhyrvgE+Ri8wcP95y0yXtXxVse3bMvpK19kPXUXpYEnXXHUMwoEuaU8GAE\n",
      "Z1qZR23Zs+V23+Et60p2uDfC7id0OoADuuWG8Htbx7ub2dS4csGGynd9JJc+nRlIhMCMvzXWfocO\n",
      "1ooiXxBALZEAQ5lB/jfWGWwb4I+47etktuLB8UNl2kQgHZ3jZY6P1g2dx7ph2UiWbtLXE451JFUI\n",
      "7jnsrs6Qq5oypVhexeudi3CD51jXAoF1I37EfQvN9Xp/vXzBlR7+fa5ZGB1izSA+tSnqi3Ke23Tn\n",
      "OOi/wG+OLt/WwBs1v2VmpwN3o+L21j3BN3O1Ol3hdKCQuqkUSs3TO3ZAQWN0s4MQWNiyf+CkDzX8\n",
      "l4v7tOMma/O9aJT577YSTS7FEIJDtIwKrd5bQruJfoJrqAN9ntvD3ZBCNxdjl2bkpMx7jZtbPqxV\n",
      "Sq3ec3goDo5Xs6Q8ow5FVS31m0Ao+k2L96ydy0D1B18nj8UlyRHM7OMmTwey7b3k6W4/VEcaG2MB\n",
      "+KIaBeRGtebQ8n4FvVzvH7hAwDBlc3S5WAp/mCQLHkSGRDp2RGWp0sd0dHc0ekM8ZaeJSGpYgYoF\n",
      "GrYT28Fd8GSpngXjn9rkou1kaSpZS3e75QezwSXwAuMP2Xnvos7c2ex8opDtuRVZyahf6dYw7RXo\n",
      "XYzj/IEvC8I69MXmSH/iDviGPML+5hmosZ70HTvgJHc7I9KJJMrSj2e3Yz6jLoT+MYyopb7vlVyb\n",
      "vRgqpGczwcUiIPhL7P0TbWYSB8IrUtFJ2P9FN4GEIaxYuYSJB4Blm5tyi8ETd3lqVLqScjnnvaJE\n",
      "8HItdjhSq+EsYl2a33eWL5wd2tqDuJ7Uq0x2uG9dA3R8q1QNjEf+FBum5005E0Nnlw6ERkhU61eE\n",
      "F0Z3AzGQDyHRsUftCN0PfevypgGGxzkJbDcGgjXdo0k5oFpBniXV0s1lJ6XnRseVIaWEBekplmoQ\n",
      "Sm5BpZEdIPok+0Q/n4Z6ra2HKYwQFHAya8ocuBrzzoFK+fxjMOeiGh0nIrdJ86jg4oVGlcerJC8x\n",
      "IlNyTHv+hwyKlhWtJ13UIejHrnkwZO1KtKDkGoClFw/q//iMie/nELFnE7w2XRlphkm1tM82i75O\n",
      "hOuehRXprn50VMUugGqqNyH574GqX2pOv1lGEEB5mFHLrCk1gmiX+IYbZAbq0d/DKCazEpSPeoNm\n",
      "aaXofGSW6f9IdrI39MbeT51mXjwjK7+DgKaAerJkewS7p3R27wFBgZoPdc/YBtWiKauCRozUNAFx\n",
      "ftjFDMvSIHpQNj5LtO38WZ6pt3Z7rNOJ+CH+Xn7sEl+sd3soRIRbIuZ+KLfOjVSd49K4JRX9aA+k\n",
      "a5mluBeM7ZL/TAUYTqE2Ck1qwOLoKkOVPERzlxgozL7T6mspqdBdYcO3duOyO/i5FQOJxpbYINwK\n",
      "nKqpupddyCiQz7IXyVHJCn811dXs5gmZj1dVoDpPmvThFf5r2qt75teWCfE1tY/eF+L2TsThN2qz\n",
      "J7C3EVtrKEDv0tNrkUbT0yIf6lHm1UWI2VsRC+u3ZIAPtzDZhBz0IoIVLHWGmiZ3ERLiAK3kL63l\n",
      "iHjedRWc4uHHWhE2tit3jtuyBibgFWiajjwnEwpjOS+r1J0MXvTpNhn9eVbIeRIEfeD62eZJTInD\n",
      "z3wNLC9Zik6hZiTrltNfqKAADTouqdeDStTZe70NfZ6ejAP3xkEFdKWq2gMdJDijd1hhLTqLpeNR\n",
      "1p89ZoLyaayWgBXtncOtRHWKuxLsjIj+r3dTs+JTLpqxDdUtYrnDDEG7kvXLV09MkQ++ZZP8xgb2\n",
      "sMRzf73qYE/WbC3LAa/Xv7WYTY1My5Gq2yYF5dkZWnacf3flvScm+EmBb9FrvHznieTnQOPnqu2Z\n",
      "wFdDdwgBZytGqcgEh57bWXQXprXDaxxvFU1j0mzA6nGv+IJFIyCptNsYzcFHf77MWWsr/G3toVF8\n",
      "c34azM7JORVSDJ8/4ORn9zcMTzBF8ylw3+aO2TCZxF8SxGWRMT6huNkybpJZO2/nOatDZWlzfMea\n",
      "hlBUNExhopqbjaCZzad+jI0u0a3SLPeF5uuUbkWPDEhDuwAB6coJU3+Smai6oD/iij8R3gW89Er0\n",
      "clVtOmt9HmrHrOtF1WOz5VzoxfEm7rqE+fQNcS7CcQTW/VG1a7kjMeDBLirHUOO0YMFqze7zH0Lk\n",
      "ZgwRx282u2/PJ0zUW30EFj3uB3psRnS59Ll39kIm2rTzONZy2bJP/dCoHQ0bfZPdRxHIHFii4yXL\n",
      "bph2oaf5Vv/TsV4lzsWsZFphIKG/e5tJFwfPWTFr+C3EQUVHIcL0B34YI1QJf7fKDDSFfaCoBTdS\n",
      "QzmNuLGC5iFFyCJ9K4oAQVKU4o2wzZhlAvku4d44ZVA+fjbOnYrwwB/+TVWtOzfoqBe9dzggn+bq\n",
      "3XKwyaaEQgQA/3cVrZfqO9kkK+KtFw+M7QO3si1WGIY1iB/C4xbTopaIewJ1eL1rUPdHlnZeO95p\n",
      "twE15xBjxzMucX9HQK+kHY5TgUCeKKd95Shbo3IjardA7sBqk2dJik6OFcW/pE68IkwA+NiiHyrl\n",
      "0BBPZl91j9QtDVETsZ41QZ3EnbBmIdgggHSvEknsj7oSl759PcTSy2SNA7xMmymfyi0fNtMc+ez3\n",
      "rMvQcoPNvSOSm/xcX7iowgb4ETs0A0CUga0kMaTI9oQAHmPh+fTXUBQb8bdNu992cI5hdiP3rEzI\n",
      "4PKF8NdAJ8yWJ2f0K8WUFG8xwN0sSXs6JxrMNRYFdd9QimWfsCQVbAOf5O6JW8YEjeU3Ofds52ZI\n",
      "XIYwF6uXnxWvPl66S78wwH3ITki5ArOTSCTgzn6nD2JCFheuPyTD7BsY8HmceoJtubU+bQqWMORH\n",
      "eHzxIuR3ZcHaL/2/5CHgRyaA/PiUEtuTLDc/KCdpUouQPilPJI0VoUmUb+FBUuq5xQL+O+tIMOBT\n",
      "fzcMeFaqrec1rC21ytwJs0oY1P6dPbAhnm4kMT8gJujg0u3H3qkcoSWsa0pp9WAKRzzfLGax5isk\n",
      "LqTgYWvGBUwg0Ds4wwMfG4iC8LED57X+E80GxSyIX0TetYul+YoixAJmObtIrdAjg4XY+P255hGy\n",
      "+mZVTHBnr3KksYGX/Bu38dN0+1G+M4yiQ4YmajNtQXPIqgvKCzgg9e9hPkH0Lt/UUJwEjO0yXiuM\n",
      "eweLto7+9Ub/FrLEsk21DZrS8L7vgb+in/UE6yTwFmR5F70+HzAzBBnbiO3T0CyxVuYoekvEylfR\n",
      "TWlo7N1DrkIjnKowGjkTXS4w6VRo8/hZrstJRTkZ+CU+qI3XQBx+ksArY06s8creeMOCjXu85MPf\n",
      "teGBrMivLLG678i5YPgHHk1d53wtQW28MkX318dVka9pVtBtmwEwCQg+EMOEFplc6ltd1OoZSDOQ\n",
      "CHDtW7hUkO4cX4etnhqNOyRSW9ywNt4hOopgv8an1YmGn2q9Im5lUSEotELBkayGxkZKgGKB4pJJ\n",
      "mFGKpG112+NrsDfYE7vOy/nfGh+oT3k1U/Kv6Kz2JyS5LlOZCFJbU0v+PgbjjT2xQZaPRL4epN3C\n",
      "+wUM1872N2/0hbhglkx52VffuBpug+fVbkHY/pRJctwyjmHHr5ZFlaTxVj8dD32lyzNIXURUrSD4\n",
      "Yv5tPh3R5g1cDVJHag9mCuSCge2JyXmylAVGXmyvi8etZldstT21KK5taz4IAu6w4p2pOVHscMxc\n",
      "DW66fBO1MrWq/KIq2WIbC4vmTxwU/zRfYMAO1/8dnGA2U9mMNSn/E5BHCWLv98iOsgN5fyIaK/la\n",
      "B/QIYXtOfn4lOoyUx6jdKAeQKc1ud4CwTTVET7hlJFW0vjCbsAYQFZ1V2swZOZ91xA+Ih99cf7Xb\n",
      "l8cW9i1IhUiiljz0ybt1RmiPumzGDrCpb2zH1urvFsX0AIhdXh5K+DKKAwYDAg/FycUx9x8MXBYo\n",
      "MD9An7I3L2MCJU+9nzhvZxPx066rUKpOoGb2b/LS0aXV6GuS3AAPCQIoQa+lrYNxE6vn31dXOgzV\n",
      "DkzA+SzVeCCATVoSDgrE2IdWY9rNeclOZMV0fbjutz/VvGqMDwdwmJmIyUDcBGBAv20dm90fwG+w\n",
      "OvKlPaqwwFgQGmzDZtwBGOv8Hd0efXvvVcskl49b0oRJsEN6fmlZ7ql1rpfvncFrHUXqnMe+nC7w\n",
      "JGJgKCdRoMXr8svptiRIiWIQTR3hdiKF1FVZDiFxFIYHyEwEF8rc79y5oJbI6Qa4YxEt/tJt7I8I\n",
      "4L0EeffPhUogHWY+fMRZjhRxajK/UkHYKoMPF1LRa5KHWipr0R6HxZaj5RApsbWKZHn57OKKQ2qP\n",
      "727xeD/W1zTnvIb11Op2XBgE6E1XRKW+krduN0O4JCh6I5+NAXAgBxIcAt3M6N6AJ/l1DOqw6EDi\n",
      "xEen1j9HYe/FFmaD0CriNVF2l703xudJUDjB1BAiucEv98IjRavwnekdoFL8fPFmTEW56W940zwq\n",
      "3LkEMWdzeT408mhQRve/T3YCo3kxwfZNMZJ1o+XzjYLGjQzgvEgsPAMmFTG/HlHNtEWrz5786guu\n",
      "HV/MwMV6BirkxlUTxCb3uOleVvmnrXk4duHbpu/F3xFiNhNTpoPLRQ1M70fGq+m4R8I\n",
      "\n"
     ]
    }
   ],
   "source": [
    "with open(os.path.join(diretorio,\"file1.txt\"),\"r\") as arquivo:\n",
    "    print(arquivo.read())"
   ]
  },
  {
   "cell_type": "code",
   "execution_count": 6,
   "metadata": {
    "collapsed": false
   },
   "outputs": [
    {
     "name": "stdout",
     "output_type": "stream",
     "text": [
      "dom set 11 18:10:54 BRT 2016 \n",
      "\n"
     ]
    }
   ],
   "source": [
    "with open(os.path.join(diretorio,\"file1.txt\"), \"r\") as arquivo:\n",
    "    print(arquivo.readline())"
   ]
  },
  {
   "cell_type": "markdown",
   "metadata": {},
   "source": [
    "### Exemplo:\n",
    "Ler a primeira linha de cada arquivo de um diretorio e escrever o resultado em outro arquivo."
   ]
  },
  {
   "cell_type": "code",
   "execution_count": 7,
   "metadata": {
    "collapsed": false
   },
   "outputs": [
    {
     "name": "stdout",
     "output_type": "stream",
     "text": [
      "['/home/melissa/Dropbox/trabalho/2016.2/oceanobiopython/Notebooks/../exemplo_2/file5.txt', '/home/melissa/Dropbox/trabalho/2016.2/oceanobiopython/Notebooks/../exemplo_2/file2.txt', '/home/melissa/Dropbox/trabalho/2016.2/oceanobiopython/Notebooks/../exemplo_2/file1.txt', '/home/melissa/Dropbox/trabalho/2016.2/oceanobiopython/Notebooks/../exemplo_2/file4.txt', '/home/melissa/Dropbox/trabalho/2016.2/oceanobiopython/Notebooks/../exemplo_2/file3.txt']\n"
     ]
    }
   ],
   "source": [
    "print([os.path.join(diretorio,item) for item in os.listdir(diretorio) if item != \"teste.txt\"])"
   ]
  },
  {
   "cell_type": "code",
   "execution_count": 8,
   "metadata": {
    "collapsed": true
   },
   "outputs": [],
   "source": [
    "lista = [os.path.join(diretorio,item) for item in os.listdir(diretorio) if item != \"teste.txt\"]"
   ]
  },
  {
   "cell_type": "code",
   "execution_count": 9,
   "metadata": {
    "collapsed": false
   },
   "outputs": [
    {
     "data": {
      "text/plain": [
       "['/home/melissa/Dropbox/trabalho/2016.2/oceanobiopython/Notebooks/../exemplo_2/file5.txt',\n",
       " '/home/melissa/Dropbox/trabalho/2016.2/oceanobiopython/Notebooks/../exemplo_2/file2.txt',\n",
       " '/home/melissa/Dropbox/trabalho/2016.2/oceanobiopython/Notebooks/../exemplo_2/file1.txt',\n",
       " '/home/melissa/Dropbox/trabalho/2016.2/oceanobiopython/Notebooks/../exemplo_2/file4.txt',\n",
       " '/home/melissa/Dropbox/trabalho/2016.2/oceanobiopython/Notebooks/../exemplo_2/file3.txt']"
      ]
     },
     "execution_count": 9,
     "metadata": {},
     "output_type": "execute_result"
    }
   ],
   "source": [
    "lista"
   ]
  },
  {
   "cell_type": "code",
   "execution_count": 10,
   "metadata": {
    "collapsed": false
   },
   "outputs": [
    {
     "name": "stdout",
     "output_type": "stream",
     "text": [
      "['qui set 08 22:42:51 BRT 2016\\n']\n",
      "['qua set 07 11:00:22 BRT 2016\\n']\n",
      "['dom set 11 18:10:54 BRT 2016 \\n']\n",
      "['seg ago 29 13:19:03 BRT 2016\\n']\n",
      "['ter ago 16 08:24:00 BRT 2016\\n']\n"
     ]
    }
   ],
   "source": [
    "for item in lista:\n",
    "    with open(item,\"r\") as arquivo:\n",
    "        print(arquivo.readlines(1))"
   ]
  },
  {
   "cell_type": "code",
   "execution_count": 11,
   "metadata": {
    "collapsed": false
   },
   "outputs": [
    {
     "ename": "AttributeError",
     "evalue": "'list' object has no attribute 'rstrip'",
     "output_type": "error",
     "traceback": [
      "\u001b[0;31m---------------------------------------------------------------------------\u001b[0m",
      "\u001b[0;31mAttributeError\u001b[0m                            Traceback (most recent call last)",
      "\u001b[0;32m<ipython-input-11-90613453356b>\u001b[0m in \u001b[0;36m<module>\u001b[0;34m()\u001b[0m\n\u001b[1;32m      1\u001b[0m \u001b[0;32mfor\u001b[0m \u001b[0mitem\u001b[0m \u001b[0;32min\u001b[0m \u001b[0mlista\u001b[0m\u001b[0;34m:\u001b[0m\u001b[0;34m\u001b[0m\u001b[0m\n\u001b[1;32m      2\u001b[0m     \u001b[0;32mwith\u001b[0m \u001b[0mopen\u001b[0m\u001b[0;34m(\u001b[0m\u001b[0mitem\u001b[0m\u001b[0;34m,\u001b[0m\u001b[0;34m\"r\"\u001b[0m\u001b[0;34m)\u001b[0m \u001b[0;32mas\u001b[0m \u001b[0marquivo\u001b[0m\u001b[0;34m:\u001b[0m\u001b[0;34m\u001b[0m\u001b[0m\n\u001b[0;32m----> 3\u001b[0;31m         \u001b[0mprint\u001b[0m\u001b[0;34m(\u001b[0m\u001b[0marquivo\u001b[0m\u001b[0;34m.\u001b[0m\u001b[0mreadlines\u001b[0m\u001b[0;34m(\u001b[0m\u001b[0;36m1\u001b[0m\u001b[0;34m)\u001b[0m\u001b[0;34m.\u001b[0m\u001b[0mrstrip\u001b[0m\u001b[0;34m(\u001b[0m\u001b[0;34m\"\\n\"\u001b[0m\u001b[0;34m)\u001b[0m\u001b[0;34m)\u001b[0m\u001b[0;34m\u001b[0m\u001b[0m\n\u001b[0m",
      "\u001b[0;31mAttributeError\u001b[0m: 'list' object has no attribute 'rstrip'"
     ]
    }
   ],
   "source": [
    "for item in lista:\n",
    "    with open(item,\"r\") as arquivo:\n",
    "        print(arquivo.readlines(1).rstrip(\"\\n\"))"
   ]
  },
  {
   "cell_type": "code",
   "execution_count": 12,
   "metadata": {
    "collapsed": false
   },
   "outputs": [
    {
     "name": "stdout",
     "output_type": "stream",
     "text": [
      "qui set 08 22:42:51 BRT 2016\n",
      "qua set 07 11:00:22 BRT 2016\n",
      "dom set 11 18:10:54 BRT 2016 \n",
      "seg ago 29 13:19:03 BRT 2016\n",
      "ter ago 16 08:24:00 BRT 2016\n"
     ]
    }
   ],
   "source": [
    "for item in lista:\n",
    "    with open(item,\"r\") as arquivo:\n",
    "        print(arquivo.readlines(1)[0].rstrip(\"\\n\"))"
   ]
  },
  {
   "cell_type": "code",
   "execution_count": 13,
   "metadata": {
    "collapsed": true
   },
   "outputs": [],
   "source": [
    "with open(\"resumo.txt\", \"w\") as arquivo_saida:\n",
    "    for item in lista:\n",
    "        with open(item,\"r\") as arquivo:\n",
    "            arquivo_saida.write(arquivo.readlines(1)[0].rstrip(\"\\n\"))"
   ]
  },
  {
   "cell_type": "markdown",
   "metadata": {},
   "source": [
    "Agora, vamos desfazer o exemplo:"
   ]
  },
  {
   "cell_type": "code",
   "execution_count": 14,
   "metadata": {
    "collapsed": true
   },
   "outputs": [],
   "source": [
    "os.remove(\"resumo.txt\")"
   ]
  },
  {
   "cell_type": "markdown",
   "metadata": {},
   "source": [
    "# Alguns links importantes"
   ]
  },
  {
   "cell_type": "markdown",
   "metadata": {},
   "source": [
    "Documentação sobre funções built-in: https://docs.python.org/3/library/functions.html"
   ]
  },
  {
   "cell_type": "code",
   "execution_count": null,
   "metadata": {
    "collapsed": true
   },
   "outputs": [],
   "source": []
  }
 ],
 "metadata": {
  "kernelspec": {
   "display_name": "Python 3",
   "language": "python",
   "name": "python3"
  },
  "language_info": {
   "codemirror_mode": {
    "name": "ipython",
    "version": 3
   },
   "file_extension": ".py",
   "mimetype": "text/x-python",
   "name": "python",
   "nbconvert_exporter": "python",
   "pygments_lexer": "ipython3",
   "version": "3.5.2"
  }
 },
 "nbformat": 4,
 "nbformat_minor": 0
}
